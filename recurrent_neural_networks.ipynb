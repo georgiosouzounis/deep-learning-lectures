{
  "nbformat": 4,
  "nbformat_minor": 0,
  "metadata": {
    "colab": {
      "name": "recurrent-neural-networks.ipynb",
      "provenance": [],
      "collapsed_sections": []
    },
    "kernelspec": {
      "name": "python3",
      "display_name": "Python 3"
    },
    "language_info": {
      "name": "python"
    }
  },
  "cells": [
    {
      "cell_type": "markdown",
      "metadata": {
        "id": "oA6GZzYgRBsu"
      },
      "source": [
        "<img src=\"https://www.kaunokolegija.lt/kk_wp_content/uploads/sites/5/2020/05/kaunas-university-of-applied-sciences.png\" width=\"300\"/> \n",
        "\n",
        "------"
      ]
    },
    {
      "cell_type": "markdown",
      "metadata": {
        "id": "6QBqbb8BRFzu"
      },
      "source": [
        "# Recurrent Neural Networks\n",
        "\n",
        "A case study of univariate time series analysis.\n",
        "\n",
        "### Practical Session\n",
        "\n",
        "<br/> Prof. Dr. Georgios K. Ouzounis\n",
        "<br/> email: georgios.ouzounis@go.kauko.lt\n",
        "<br/>last update: June 25, 2021\n",
        "\n",
        "\n",
        "--------"
      ]
    },
    {
      "cell_type": "markdown",
      "metadata": {
        "id": "TdhSL4xTROUn"
      },
      "source": [
        "## Contents\n",
        "\n",
        "1. [Challenge](#challenge)\n",
        "2. [Download the data](#download-the-data)\n",
        "3. [Visualize the stock price history](#visualize-the-stock-price-history)\n",
        "4. [Data transforms and preprocessing](#data-transforms-and-preprocessing)\n",
        "5. [Build the RNN](#build-the-rnn)\n",
        "6. [Train the RNN](#train-the-rnn)\n",
        "7. [Improve the RNN](#improve-the-rnn)\n",
        "8. [Fine tune the RNN](#fine-tune-the-rnn)"
      ]
    },
    {
      "cell_type": "markdown",
      "metadata": {
        "id": "CU-lVwMmRTNK"
      },
      "source": [
        "## Challenge <a name=\"challenge\"></a>\n",
        "\n",
        "<img src=\"https://miro.medium.com/max/3504/1*NpT5pyemQQsGEHXbfS51Zw.png\" width=\"600\" align=\"left\"/>\n"
      ]
    },
    {
      "cell_type": "markdown",
      "metadata": {
        "id": "WehN_1mKRhu4"
      },
      "source": [
        "Given a 5-year history of any stock traded in NASDAQ predict the stock prices for the period of the recent-most month that are not included in the historical data.\n",
        "\n",
        "To address this challenge we will employ [**univariate time series analysis**](www.homepages.ucl.ac.uk/~uctpsc0/Teaching/GR03/TS1.pdf) with [**recurrent neural networks**](https://stanford.edu/~shervine/teaching/cs-230/cheatsheet-recurrent-neural-networks)."
      ]
    },
    {
      "cell_type": "markdown",
      "metadata": {
        "id": "mReQATWhIv6d"
      },
      "source": [
        "## Download the data  <a name=\"download-the-data\"></a>"
      ]
    },
    {
      "cell_type": "code",
      "metadata": {
        "id": "TGl4xmaGRYCc"
      },
      "source": [
        "# importing the libraries\n",
        "import numpy as np\n",
        "import matplotlib.pyplot as plt\n",
        "import pandas as pd"
      ],
      "execution_count": 1,
      "outputs": []
    },
    {
      "cell_type": "code",
      "metadata": {
        "id": "hvLG67JMRlJf",
        "colab": {
          "base_uri": "https://localhost:8080/"
        },
        "outputId": "d1a819ad-0f26-4d2e-c8b6-a6fc44eaada6"
      },
      "source": [
        "# install yahoo-finance\n",
        "!pip install yfinance"
      ],
      "execution_count": 2,
      "outputs": [
        {
          "output_type": "stream",
          "text": [
            "Collecting yfinance\n",
            "  Downloading https://files.pythonhosted.org/packages/a7/ee/315752b9ef281ba83c62aa7ec2e2074f85223da6e7e74efb4d3e11c0f510/yfinance-0.1.59.tar.gz\n",
            "Requirement already satisfied: pandas>=0.24 in /usr/local/lib/python3.7/dist-packages (from yfinance) (1.1.5)\n",
            "Requirement already satisfied: numpy>=1.15 in /usr/local/lib/python3.7/dist-packages (from yfinance) (1.19.5)\n",
            "Requirement already satisfied: requests>=2.20 in /usr/local/lib/python3.7/dist-packages (from yfinance) (2.23.0)\n",
            "Requirement already satisfied: multitasking>=0.0.7 in /usr/local/lib/python3.7/dist-packages (from yfinance) (0.0.9)\n",
            "Collecting lxml>=4.5.1\n",
            "\u001b[?25l  Downloading https://files.pythonhosted.org/packages/30/c0/d0526314971fc661b083ab135747dc68446a3022686da8c16d25fcf6ef07/lxml-4.6.3-cp37-cp37m-manylinux2014_x86_64.whl (6.3MB)\n",
            "\u001b[K     |████████████████████████████████| 6.3MB 4.5MB/s \n",
            "\u001b[?25hRequirement already satisfied: python-dateutil>=2.7.3 in /usr/local/lib/python3.7/dist-packages (from pandas>=0.24->yfinance) (2.8.1)\n",
            "Requirement already satisfied: pytz>=2017.2 in /usr/local/lib/python3.7/dist-packages (from pandas>=0.24->yfinance) (2018.9)\n",
            "Requirement already satisfied: urllib3!=1.25.0,!=1.25.1,<1.26,>=1.21.1 in /usr/local/lib/python3.7/dist-packages (from requests>=2.20->yfinance) (1.24.3)\n",
            "Requirement already satisfied: idna<3,>=2.5 in /usr/local/lib/python3.7/dist-packages (from requests>=2.20->yfinance) (2.10)\n",
            "Requirement already satisfied: chardet<4,>=3.0.2 in /usr/local/lib/python3.7/dist-packages (from requests>=2.20->yfinance) (3.0.4)\n",
            "Requirement already satisfied: certifi>=2017.4.17 in /usr/local/lib/python3.7/dist-packages (from requests>=2.20->yfinance) (2021.5.30)\n",
            "Requirement already satisfied: six>=1.5 in /usr/local/lib/python3.7/dist-packages (from python-dateutil>=2.7.3->pandas>=0.24->yfinance) (1.15.0)\n",
            "Building wheels for collected packages: yfinance\n",
            "  Building wheel for yfinance (setup.py) ... \u001b[?25l\u001b[?25hdone\n",
            "  Created wheel for yfinance: filename=yfinance-0.1.59-py2.py3-none-any.whl size=23455 sha256=ddfd7ba71a7c756240aa311f76fe746e992aa59bdf95a9c75e1a8b713d64da5b\n",
            "  Stored in directory: /root/.cache/pip/wheels/f8/2a/0f/4b5a86e1d52e451757eb6bc17fd899629f0925c777741b6d04\n",
            "Successfully built yfinance\n",
            "Installing collected packages: lxml, yfinance\n",
            "  Found existing installation: lxml 4.2.6\n",
            "    Uninstalling lxml-4.2.6:\n",
            "      Successfully uninstalled lxml-4.2.6\n",
            "Successfully installed lxml-4.6.3 yfinance-0.1.59\n"
          ],
          "name": "stdout"
        }
      ]
    },
    {
      "cell_type": "code",
      "metadata": {
        "id": "gBW1a1O3RnKx",
        "colab": {
          "base_uri": "https://localhost:8080/"
        },
        "outputId": "a51af8aa-6310-42b8-d47f-890436e74df5"
      },
      "source": [
        "# copy some custom code files \n",
        "!wget https://raw.githubusercontent.com/georgiosouzounis/deep-learning-lectures/main/code/NASDAQ_io.py"
      ],
      "execution_count": 3,
      "outputs": [
        {
          "output_type": "stream",
          "text": [
            "--2021-07-03 12:29:53--  https://raw.githubusercontent.com/georgiosouzounis/deep-learning-lectures/main/code/NASDAQ_io.py\n",
            "Resolving raw.githubusercontent.com (raw.githubusercontent.com)... 185.199.111.133, 185.199.109.133, 185.199.110.133, ...\n",
            "Connecting to raw.githubusercontent.com (raw.githubusercontent.com)|185.199.111.133|:443... connected.\n",
            "HTTP request sent, awaiting response... 200 OK\n",
            "Length: 1716 (1.7K) [text/plain]\n",
            "Saving to: ‘NASDAQ_io.py’\n",
            "\n",
            "NASDAQ_io.py        100%[===================>]   1.68K  --.-KB/s    in 0s      \n",
            "\n",
            "2021-07-03 12:29:53 (27.7 MB/s) - ‘NASDAQ_io.py’ saved [1716/1716]\n",
            "\n"
          ],
          "name": "stdout"
        }
      ]
    },
    {
      "cell_type": "code",
      "metadata": {
        "id": "CB8DpuO6_sp1"
      },
      "source": [
        "# import necessary functions\n",
        "from NASDAQ_io import * #getStockTickerSymbols, searchBySymbol, getStockPriceHistory, getDateTime"
      ],
      "execution_count": 5,
      "outputs": []
    },
    {
      "cell_type": "code",
      "metadata": {
        "id": "jalyBe1iRs2G"
      },
      "source": [
        "# get the companies listed in NASDAQ\n",
        "companies = getStockTickerSymbols()"
      ],
      "execution_count": 6,
      "outputs": []
    },
    {
      "cell_type": "code",
      "metadata": {
        "id": "Nn2ULPRPRvGq",
        "colab": {
          "base_uri": "https://localhost:8080/",
          "height": 580
        },
        "outputId": "586b85ef-fcbc-49db-a4f8-621bdbadcbe7"
      },
      "source": [
        "# view the companies\n",
        "companies"
      ],
      "execution_count": 7,
      "outputs": [
        {
          "output_type": "execute_result",
          "data": {
            "text/html": [
              "<div>\n",
              "<style scoped>\n",
              "    .dataframe tbody tr th:only-of-type {\n",
              "        vertical-align: middle;\n",
              "    }\n",
              "\n",
              "    .dataframe tbody tr th {\n",
              "        vertical-align: top;\n",
              "    }\n",
              "\n",
              "    .dataframe thead th {\n",
              "        text-align: right;\n",
              "    }\n",
              "</style>\n",
              "<table border=\"1\" class=\"dataframe\">\n",
              "  <thead>\n",
              "    <tr style=\"text-align: right;\">\n",
              "      <th></th>\n",
              "      <th>Symbol</th>\n",
              "      <th>Company Name</th>\n",
              "      <th>Security Name</th>\n",
              "      <th>Market Category</th>\n",
              "      <th>Test Issue</th>\n",
              "      <th>Financial Status</th>\n",
              "      <th>Round Lot Size</th>\n",
              "    </tr>\n",
              "  </thead>\n",
              "  <tbody>\n",
              "    <tr>\n",
              "      <th>0</th>\n",
              "      <td>AAIT</td>\n",
              "      <td>iShares MSCI All Country Asia Information Tech...</td>\n",
              "      <td>iShares MSCI All Country Asia Information Tech...</td>\n",
              "      <td>G</td>\n",
              "      <td>N</td>\n",
              "      <td>N</td>\n",
              "      <td>100.0</td>\n",
              "    </tr>\n",
              "    <tr>\n",
              "      <th>1</th>\n",
              "      <td>AAL</td>\n",
              "      <td>American Airlines Group, Inc.</td>\n",
              "      <td>American Airlines Group, Inc. - Common Stock</td>\n",
              "      <td>Q</td>\n",
              "      <td>N</td>\n",
              "      <td>N</td>\n",
              "      <td>100.0</td>\n",
              "    </tr>\n",
              "    <tr>\n",
              "      <th>2</th>\n",
              "      <td>AAME</td>\n",
              "      <td>Atlantic American Corporation</td>\n",
              "      <td>Atlantic American Corporation - Common Stock</td>\n",
              "      <td>G</td>\n",
              "      <td>N</td>\n",
              "      <td>N</td>\n",
              "      <td>100.0</td>\n",
              "    </tr>\n",
              "    <tr>\n",
              "      <th>3</th>\n",
              "      <td>AAOI</td>\n",
              "      <td>Applied Optoelectronics, Inc.</td>\n",
              "      <td>Applied Optoelectronics, Inc. - Common Stock</td>\n",
              "      <td>G</td>\n",
              "      <td>N</td>\n",
              "      <td>N</td>\n",
              "      <td>100.0</td>\n",
              "    </tr>\n",
              "    <tr>\n",
              "      <th>4</th>\n",
              "      <td>AAON</td>\n",
              "      <td>AAON, Inc.</td>\n",
              "      <td>AAON, Inc. - Common Stock</td>\n",
              "      <td>Q</td>\n",
              "      <td>N</td>\n",
              "      <td>N</td>\n",
              "      <td>100.0</td>\n",
              "    </tr>\n",
              "    <tr>\n",
              "      <th>...</th>\n",
              "      <td>...</td>\n",
              "      <td>...</td>\n",
              "      <td>...</td>\n",
              "      <td>...</td>\n",
              "      <td>...</td>\n",
              "      <td>...</td>\n",
              "      <td>...</td>\n",
              "    </tr>\n",
              "    <tr>\n",
              "      <th>2962</th>\n",
              "      <td>ZN</td>\n",
              "      <td>Zion Oil &amp; Gas Inc</td>\n",
              "      <td>Zion Oil &amp; Gas Inc - Common Stock</td>\n",
              "      <td>G</td>\n",
              "      <td>N</td>\n",
              "      <td>N</td>\n",
              "      <td>100.0</td>\n",
              "    </tr>\n",
              "    <tr>\n",
              "      <th>2963</th>\n",
              "      <td>ZNGA</td>\n",
              "      <td>Zynga Inc.</td>\n",
              "      <td>Zynga Inc. - Class A Common Stock</td>\n",
              "      <td>Q</td>\n",
              "      <td>N</td>\n",
              "      <td>N</td>\n",
              "      <td>100.0</td>\n",
              "    </tr>\n",
              "    <tr>\n",
              "      <th>2964</th>\n",
              "      <td>ZSPH</td>\n",
              "      <td>ZS Pharma, Inc.</td>\n",
              "      <td>ZS Pharma, Inc. - Common Stock</td>\n",
              "      <td>G</td>\n",
              "      <td>N</td>\n",
              "      <td>N</td>\n",
              "      <td>100.0</td>\n",
              "    </tr>\n",
              "    <tr>\n",
              "      <th>2965</th>\n",
              "      <td>ZU</td>\n",
              "      <td>zulily, inc.</td>\n",
              "      <td>zulily, inc. - Class A Common Stock</td>\n",
              "      <td>Q</td>\n",
              "      <td>N</td>\n",
              "      <td>N</td>\n",
              "      <td>100.0</td>\n",
              "    </tr>\n",
              "    <tr>\n",
              "      <th>2966</th>\n",
              "      <td>ZUMZ</td>\n",
              "      <td>Zumiez Inc.</td>\n",
              "      <td>Zumiez Inc. - Common Stock</td>\n",
              "      <td>Q</td>\n",
              "      <td>N</td>\n",
              "      <td>N</td>\n",
              "      <td>100.0</td>\n",
              "    </tr>\n",
              "  </tbody>\n",
              "</table>\n",
              "<p>2967 rows × 7 columns</p>\n",
              "</div>"
            ],
            "text/plain": [
              "     Symbol  ... Round Lot Size\n",
              "0      AAIT  ...          100.0\n",
              "1       AAL  ...          100.0\n",
              "2      AAME  ...          100.0\n",
              "3      AAOI  ...          100.0\n",
              "4      AAON  ...          100.0\n",
              "...     ...  ...            ...\n",
              "2962     ZN  ...          100.0\n",
              "2963   ZNGA  ...          100.0\n",
              "2964   ZSPH  ...          100.0\n",
              "2965     ZU  ...          100.0\n",
              "2966   ZUMZ  ...          100.0\n",
              "\n",
              "[2967 rows x 7 columns]"
            ]
          },
          "metadata": {
            "tags": []
          },
          "execution_count": 7
        }
      ]
    },
    {
      "cell_type": "code",
      "metadata": {
        "id": "j0FSCohxRv7z"
      },
      "source": [
        "# Let us go for Tesla\n",
        "symbol = 'TSLA'"
      ],
      "execution_count": 8,
      "outputs": []
    },
    {
      "cell_type": "code",
      "metadata": {
        "id": "1YTwxW9v_A3E"
      },
      "source": [
        "# check if the symbol exists; if it doesn't the dataframe will be empty\n",
        "df = searchBySymbol(companies, symbol)"
      ],
      "execution_count": 9,
      "outputs": []
    },
    {
      "cell_type": "code",
      "metadata": {
        "id": "BK4aLl4m99D5"
      },
      "source": [
        "# set the strat and end date for our training data\n",
        "start_date = getDateTime(2016,1,1)\n",
        "end_date = getDateTime(2021,5,31)"
      ],
      "execution_count": 10,
      "outputs": []
    },
    {
      "cell_type": "code",
      "metadata": {
        "id": "EGy3NceYR2yM",
        "colab": {
          "base_uri": "https://localhost:8080/"
        },
        "outputId": "3c9d8cfc-aeff-4f94-c759-b6cf3649ad33"
      },
      "source": [
        "# get the stock history\n",
        "stock_history = getStockPriceHistory(df, start_date, end_date)"
      ],
      "execution_count": 11,
      "outputs": [
        {
          "output_type": "stream",
          "text": [
            "0 : TSLA,"
          ],
          "name": "stdout"
        }
      ]
    },
    {
      "cell_type": "code",
      "metadata": {
        "id": "f1N84CzJrbhq",
        "colab": {
          "base_uri": "https://localhost:8080/",
          "height": 455
        },
        "outputId": "333ea9e3-6ad1-42a9-a6dc-4ba737330389"
      },
      "source": [
        "# view the contents of the dataframe\n",
        "stock_history"
      ],
      "execution_count": 12,
      "outputs": [
        {
          "output_type": "execute_result",
          "data": {
            "text/html": [
              "<div>\n",
              "<style scoped>\n",
              "    .dataframe tbody tr th:only-of-type {\n",
              "        vertical-align: middle;\n",
              "    }\n",
              "\n",
              "    .dataframe tbody tr th {\n",
              "        vertical-align: top;\n",
              "    }\n",
              "\n",
              "    .dataframe thead th {\n",
              "        text-align: right;\n",
              "    }\n",
              "</style>\n",
              "<table border=\"1\" class=\"dataframe\">\n",
              "  <thead>\n",
              "    <tr style=\"text-align: right;\">\n",
              "      <th></th>\n",
              "      <th>Open</th>\n",
              "      <th>High</th>\n",
              "      <th>Low</th>\n",
              "      <th>Close</th>\n",
              "      <th>Adj Close</th>\n",
              "      <th>Volume</th>\n",
              "      <th>Name</th>\n",
              "    </tr>\n",
              "    <tr>\n",
              "      <th>Date</th>\n",
              "      <th></th>\n",
              "      <th></th>\n",
              "      <th></th>\n",
              "      <th></th>\n",
              "      <th></th>\n",
              "      <th></th>\n",
              "      <th></th>\n",
              "    </tr>\n",
              "  </thead>\n",
              "  <tbody>\n",
              "    <tr>\n",
              "      <th>2016-01-04</th>\n",
              "      <td>46.144001</td>\n",
              "      <td>46.276001</td>\n",
              "      <td>43.799999</td>\n",
              "      <td>44.681999</td>\n",
              "      <td>44.681999</td>\n",
              "      <td>34135500</td>\n",
              "      <td>TSLA</td>\n",
              "    </tr>\n",
              "    <tr>\n",
              "      <th>2016-01-05</th>\n",
              "      <td>45.271999</td>\n",
              "      <td>45.377998</td>\n",
              "      <td>44.000000</td>\n",
              "      <td>44.686001</td>\n",
              "      <td>44.686001</td>\n",
              "      <td>15934000</td>\n",
              "      <td>TSLA</td>\n",
              "    </tr>\n",
              "    <tr>\n",
              "      <th>2016-01-06</th>\n",
              "      <td>44.000000</td>\n",
              "      <td>44.009998</td>\n",
              "      <td>43.195999</td>\n",
              "      <td>43.807999</td>\n",
              "      <td>43.807999</td>\n",
              "      <td>18895500</td>\n",
              "      <td>TSLA</td>\n",
              "    </tr>\n",
              "    <tr>\n",
              "      <th>2016-01-07</th>\n",
              "      <td>42.838001</td>\n",
              "      <td>43.688000</td>\n",
              "      <td>42.734001</td>\n",
              "      <td>43.130001</td>\n",
              "      <td>43.130001</td>\n",
              "      <td>17771500</td>\n",
              "      <td>TSLA</td>\n",
              "    </tr>\n",
              "    <tr>\n",
              "      <th>2016-01-08</th>\n",
              "      <td>43.571999</td>\n",
              "      <td>44.088001</td>\n",
              "      <td>42.153999</td>\n",
              "      <td>42.200001</td>\n",
              "      <td>42.200001</td>\n",
              "      <td>18140500</td>\n",
              "      <td>TSLA</td>\n",
              "    </tr>\n",
              "    <tr>\n",
              "      <th>...</th>\n",
              "      <td>...</td>\n",
              "      <td>...</td>\n",
              "      <td>...</td>\n",
              "      <td>...</td>\n",
              "      <td>...</td>\n",
              "      <td>...</td>\n",
              "      <td>...</td>\n",
              "    </tr>\n",
              "    <tr>\n",
              "      <th>2021-05-24</th>\n",
              "      <td>581.599976</td>\n",
              "      <td>614.479980</td>\n",
              "      <td>573.650024</td>\n",
              "      <td>606.440002</td>\n",
              "      <td>606.440002</td>\n",
              "      <td>34558100</td>\n",
              "      <td>TSLA</td>\n",
              "    </tr>\n",
              "    <tr>\n",
              "      <th>2021-05-25</th>\n",
              "      <td>607.309998</td>\n",
              "      <td>613.989990</td>\n",
              "      <td>595.710022</td>\n",
              "      <td>604.690002</td>\n",
              "      <td>604.690002</td>\n",
              "      <td>28005900</td>\n",
              "      <td>TSLA</td>\n",
              "    </tr>\n",
              "    <tr>\n",
              "      <th>2021-05-26</th>\n",
              "      <td>607.559998</td>\n",
              "      <td>626.169983</td>\n",
              "      <td>601.500000</td>\n",
              "      <td>619.130005</td>\n",
              "      <td>619.130005</td>\n",
              "      <td>28639300</td>\n",
              "      <td>TSLA</td>\n",
              "    </tr>\n",
              "    <tr>\n",
              "      <th>2021-05-27</th>\n",
              "      <td>620.239990</td>\n",
              "      <td>631.130005</td>\n",
              "      <td>616.210022</td>\n",
              "      <td>630.849976</td>\n",
              "      <td>630.849976</td>\n",
              "      <td>26370600</td>\n",
              "      <td>TSLA</td>\n",
              "    </tr>\n",
              "    <tr>\n",
              "      <th>2021-05-28</th>\n",
              "      <td>628.500000</td>\n",
              "      <td>635.590027</td>\n",
              "      <td>622.380005</td>\n",
              "      <td>625.219971</td>\n",
              "      <td>625.219971</td>\n",
              "      <td>22737000</td>\n",
              "      <td>TSLA</td>\n",
              "    </tr>\n",
              "  </tbody>\n",
              "</table>\n",
              "<p>1361 rows × 7 columns</p>\n",
              "</div>"
            ],
            "text/plain": [
              "                  Open        High         Low  ...   Adj Close    Volume  Name\n",
              "Date                                            ...                            \n",
              "2016-01-04   46.144001   46.276001   43.799999  ...   44.681999  34135500  TSLA\n",
              "2016-01-05   45.271999   45.377998   44.000000  ...   44.686001  15934000  TSLA\n",
              "2016-01-06   44.000000   44.009998   43.195999  ...   43.807999  18895500  TSLA\n",
              "2016-01-07   42.838001   43.688000   42.734001  ...   43.130001  17771500  TSLA\n",
              "2016-01-08   43.571999   44.088001   42.153999  ...   42.200001  18140500  TSLA\n",
              "...                ...         ...         ...  ...         ...       ...   ...\n",
              "2021-05-24  581.599976  614.479980  573.650024  ...  606.440002  34558100  TSLA\n",
              "2021-05-25  607.309998  613.989990  595.710022  ...  604.690002  28005900  TSLA\n",
              "2021-05-26  607.559998  626.169983  601.500000  ...  619.130005  28639300  TSLA\n",
              "2021-05-27  620.239990  631.130005  616.210022  ...  630.849976  26370600  TSLA\n",
              "2021-05-28  628.500000  635.590027  622.380005  ...  625.219971  22737000  TSLA\n",
              "\n",
              "[1361 rows x 7 columns]"
            ]
          },
          "metadata": {
            "tags": []
          },
          "execution_count": 12
        }
      ]
    },
    {
      "cell_type": "markdown",
      "metadata": {
        "id": "Qwetf-Nt5eVR"
      },
      "source": [
        "### a quick visualization example"
      ]
    },
    {
      "cell_type": "code",
      "metadata": {
        "colab": {
          "base_uri": "https://localhost:8080/",
          "height": 645
        },
        "id": "RV-gww_E4nHT",
        "outputId": "a170f345-c715-4386-d0d6-5fdcf4249fc7"
      },
      "source": [
        "# let us plot a quick chart to see the history of the stock in the timeframe specified  \n",
        "stock_history['Close'].plot(figsize=(16, 12))"
      ],
      "execution_count": 13,
      "outputs": [
        {
          "output_type": "execute_result",
          "data": {
            "text/plain": [
              "<matplotlib.axes._subplots.AxesSubplot at 0x7f55e83d7110>"
            ]
          },
          "metadata": {
            "tags": []
          },
          "execution_count": 13
        },
        {
          "output_type": "display_data",
          "data": {
            "image/png": "[encoded data removed]",
            "text/plain": [
              "<Figure size 1152x864 with 1 Axes>"
            ]
          },
          "metadata": {
            "tags": [],
            "needs_background": "light"
          }
        }
      ]
    },
    {
      "cell_type": "code",
      "metadata": {
        "colab": {
          "base_uri": "https://localhost:8080/",
          "height": 652
        },
        "id": "KonITMNU5B4q",
        "outputId": "d80e32d0-dc27-43f1-9d7e-07062284f186"
      },
      "source": [
        "# use truncate() to zoom into a specific date range\n",
        "stock_history.truncate(before='2020-03-01')['Close'].plot(figsize=(16, 12))"
      ],
      "execution_count": 14,
      "outputs": [
        {
          "output_type": "execute_result",
          "data": {
            "text/plain": [
              "<matplotlib.axes._subplots.AxesSubplot at 0x7f55e6ffa990>"
            ]
          },
          "metadata": {
            "tags": []
          },
          "execution_count": 14
        },
        {
          "output_type": "display_data",
          "data": {
            "image/png": "[encoded data removed]",
            "text/plain": [
              "<Figure size 1152x864 with 1 Axes>"
            ]
          },
          "metadata": {
            "tags": [],
            "needs_background": "light"
          }
        }
      ]
    },
    {
      "cell_type": "code",
      "metadata": {
        "id": "SxMdovBWR8sB"
      },
      "source": [
        "# The Date is set as the dataframe index. This is not very elegant!\n",
        "# Use the reset_index() function to make this the first column in \n",
        "# your dataframe and reset the index\n",
        "stock_history.reset_index(inplace=True)"
      ],
      "execution_count": 15,
      "outputs": []
    },
    {
      "cell_type": "code",
      "metadata": {
        "id": "8Qj9FFRvTiIm",
        "colab": {
          "base_uri": "https://localhost:8080/",
          "height": 424
        },
        "outputId": "eb034119-2299-4ef3-ad43-87740061a8d0"
      },
      "source": [
        "# confirm the change\n",
        "stock_history"
      ],
      "execution_count": 16,
      "outputs": [
        {
          "output_type": "execute_result",
          "data": {
            "text/html": [
              "<div>\n",
              "<style scoped>\n",
              "    .dataframe tbody tr th:only-of-type {\n",
              "        vertical-align: middle;\n",
              "    }\n",
              "\n",
              "    .dataframe tbody tr th {\n",
              "        vertical-align: top;\n",
              "    }\n",
              "\n",
              "    .dataframe thead th {\n",
              "        text-align: right;\n",
              "    }\n",
              "</style>\n",
              "<table border=\"1\" class=\"dataframe\">\n",
              "  <thead>\n",
              "    <tr style=\"text-align: right;\">\n",
              "      <th></th>\n",
              "      <th>Date</th>\n",
              "      <th>Open</th>\n",
              "      <th>High</th>\n",
              "      <th>Low</th>\n",
              "      <th>Close</th>\n",
              "      <th>Adj Close</th>\n",
              "      <th>Volume</th>\n",
              "      <th>Name</th>\n",
              "    </tr>\n",
              "  </thead>\n",
              "  <tbody>\n",
              "    <tr>\n",
              "      <th>0</th>\n",
              "      <td>2016-01-04</td>\n",
              "      <td>46.144001</td>\n",
              "      <td>46.276001</td>\n",
              "      <td>43.799999</td>\n",
              "      <td>44.681999</td>\n",
              "      <td>44.681999</td>\n",
              "      <td>34135500</td>\n",
              "      <td>TSLA</td>\n",
              "    </tr>\n",
              "    <tr>\n",
              "      <th>1</th>\n",
              "      <td>2016-01-05</td>\n",
              "      <td>45.271999</td>\n",
              "      <td>45.377998</td>\n",
              "      <td>44.000000</td>\n",
              "      <td>44.686001</td>\n",
              "      <td>44.686001</td>\n",
              "      <td>15934000</td>\n",
              "      <td>TSLA</td>\n",
              "    </tr>\n",
              "    <tr>\n",
              "      <th>2</th>\n",
              "      <td>2016-01-06</td>\n",
              "      <td>44.000000</td>\n",
              "      <td>44.009998</td>\n",
              "      <td>43.195999</td>\n",
              "      <td>43.807999</td>\n",
              "      <td>43.807999</td>\n",
              "      <td>18895500</td>\n",
              "      <td>TSLA</td>\n",
              "    </tr>\n",
              "    <tr>\n",
              "      <th>3</th>\n",
              "      <td>2016-01-07</td>\n",
              "      <td>42.838001</td>\n",
              "      <td>43.688000</td>\n",
              "      <td>42.734001</td>\n",
              "      <td>43.130001</td>\n",
              "      <td>43.130001</td>\n",
              "      <td>17771500</td>\n",
              "      <td>TSLA</td>\n",
              "    </tr>\n",
              "    <tr>\n",
              "      <th>4</th>\n",
              "      <td>2016-01-08</td>\n",
              "      <td>43.571999</td>\n",
              "      <td>44.088001</td>\n",
              "      <td>42.153999</td>\n",
              "      <td>42.200001</td>\n",
              "      <td>42.200001</td>\n",
              "      <td>18140500</td>\n",
              "      <td>TSLA</td>\n",
              "    </tr>\n",
              "    <tr>\n",
              "      <th>...</th>\n",
              "      <td>...</td>\n",
              "      <td>...</td>\n",
              "      <td>...</td>\n",
              "      <td>...</td>\n",
              "      <td>...</td>\n",
              "      <td>...</td>\n",
              "      <td>...</td>\n",
              "      <td>...</td>\n",
              "    </tr>\n",
              "    <tr>\n",
              "      <th>1356</th>\n",
              "      <td>2021-05-24</td>\n",
              "      <td>581.599976</td>\n",
              "      <td>614.479980</td>\n",
              "      <td>573.650024</td>\n",
              "      <td>606.440002</td>\n",
              "      <td>606.440002</td>\n",
              "      <td>34558100</td>\n",
              "      <td>TSLA</td>\n",
              "    </tr>\n",
              "    <tr>\n",
              "      <th>1357</th>\n",
              "      <td>2021-05-25</td>\n",
              "      <td>607.309998</td>\n",
              "      <td>613.989990</td>\n",
              "      <td>595.710022</td>\n",
              "      <td>604.690002</td>\n",
              "      <td>604.690002</td>\n",
              "      <td>28005900</td>\n",
              "      <td>TSLA</td>\n",
              "    </tr>\n",
              "    <tr>\n",
              "      <th>1358</th>\n",
              "      <td>2021-05-26</td>\n",
              "      <td>607.559998</td>\n",
              "      <td>626.169983</td>\n",
              "      <td>601.500000</td>\n",
              "      <td>619.130005</td>\n",
              "      <td>619.130005</td>\n",
              "      <td>28639300</td>\n",
              "      <td>TSLA</td>\n",
              "    </tr>\n",
              "    <tr>\n",
              "      <th>1359</th>\n",
              "      <td>2021-05-27</td>\n",
              "      <td>620.239990</td>\n",
              "      <td>631.130005</td>\n",
              "      <td>616.210022</td>\n",
              "      <td>630.849976</td>\n",
              "      <td>630.849976</td>\n",
              "      <td>26370600</td>\n",
              "      <td>TSLA</td>\n",
              "    </tr>\n",
              "    <tr>\n",
              "      <th>1360</th>\n",
              "      <td>2021-05-28</td>\n",
              "      <td>628.500000</td>\n",
              "      <td>635.590027</td>\n",
              "      <td>622.380005</td>\n",
              "      <td>625.219971</td>\n",
              "      <td>625.219971</td>\n",
              "      <td>22737000</td>\n",
              "      <td>TSLA</td>\n",
              "    </tr>\n",
              "  </tbody>\n",
              "</table>\n",
              "<p>1361 rows × 8 columns</p>\n",
              "</div>"
            ],
            "text/plain": [
              "           Date        Open        High  ...   Adj Close    Volume  Name\n",
              "0    2016-01-04   46.144001   46.276001  ...   44.681999  34135500  TSLA\n",
              "1    2016-01-05   45.271999   45.377998  ...   44.686001  15934000  TSLA\n",
              "2    2016-01-06   44.000000   44.009998  ...   43.807999  18895500  TSLA\n",
              "3    2016-01-07   42.838001   43.688000  ...   43.130001  17771500  TSLA\n",
              "4    2016-01-08   43.571999   44.088001  ...   42.200001  18140500  TSLA\n",
              "...         ...         ...         ...  ...         ...       ...   ...\n",
              "1356 2021-05-24  581.599976  614.479980  ...  606.440002  34558100  TSLA\n",
              "1357 2021-05-25  607.309998  613.989990  ...  604.690002  28005900  TSLA\n",
              "1358 2021-05-26  607.559998  626.169983  ...  619.130005  28639300  TSLA\n",
              "1359 2021-05-27  620.239990  631.130005  ...  630.849976  26370600  TSLA\n",
              "1360 2021-05-28  628.500000  635.590027  ...  625.219971  22737000  TSLA\n",
              "\n",
              "[1361 rows x 8 columns]"
            ]
          },
          "metadata": {
            "tags": []
          },
          "execution_count": 16
        }
      ]
    },
    {
      "cell_type": "markdown",
      "metadata": {
        "id": "Nk4-N88VooQp"
      },
      "source": [
        "## Visualize the stock price history <a name=\"visualize-the-stock-price-history\"></a>\n",
        "\n",
        "The visualization code is a modified version of the original, preseneted by [Trifunovic Uros](https://trifunovic-uros.medium.com/) in [Medium.com](https://medium.com/analytics-vidhya/visualizing-historical-stock-price-and-volume-from-scratch-46029b2c5ef9) on Mar. 23, 2021.\n",
        "\n",
        "Start by getting a copy of the code in  the local path"
      ]
    },
    {
      "cell_type": "code",
      "metadata": {
        "id": "NmUA0JEMSCB2",
        "colab": {
          "base_uri": "https://localhost:8080/"
        },
        "outputId": "74df84dc-3663-421b-e71d-e925d93ab7c3"
      },
      "source": [
        "!wget https://raw.githubusercontent.com/georgiosouzounis/deep-learning-lectures/main/code/stock_price_chart.py"
      ],
      "execution_count": 17,
      "outputs": [
        {
          "output_type": "stream",
          "text": [
            "--2021-07-03 12:30:25--  https://raw.githubusercontent.com/georgiosouzounis/deep-learning-lectures/main/code/stock_price_chart.py\n",
            "Resolving raw.githubusercontent.com (raw.githubusercontent.com)... 185.199.108.133, 185.199.110.133, 185.199.111.133, ...\n",
            "Connecting to raw.githubusercontent.com (raw.githubusercontent.com)|185.199.108.133|:443... connected.\n",
            "HTTP request sent, awaiting response... 200 OK\n",
            "Length: 2623 (2.6K) [text/plain]\n",
            "Saving to: ‘stock_price_chart.py’\n",
            "\n",
            "stock_price_chart.p 100%[===================>]   2.56K  --.-KB/s    in 0s      \n",
            "\n",
            "2021-07-03 12:30:25 (45.0 MB/s) - ‘stock_price_chart.py’ saved [2623/2623]\n",
            "\n"
          ],
          "name": "stdout"
        }
      ]
    },
    {
      "cell_type": "code",
      "metadata": {
        "id": "r9MafdA7SV8j"
      },
      "source": [
        "# import the get_charts() function\n",
        "from stock_price_chart import get_charts"
      ],
      "execution_count": 18,
      "outputs": []
    },
    {
      "cell_type": "code",
      "metadata": {
        "id": "nyWd_ja3Sqgu",
        "colab": {
          "base_uri": "https://localhost:8080/",
          "height": 598
        },
        "outputId": "fff1b0fb-ba38-4d6e-cc9e-78abb32f88b2"
      },
      "source": [
        "# plot the contents of our dataframe\n",
        "get_charts(stock_history)"
      ],
      "execution_count": 19,
      "outputs": [
        {
          "output_type": "display_data",
          "data": {
            "image/png": "[encoded data removed]",
            "text/plain": [
              "<Figure size 1080x720 with 2 Axes>"
            ]
          },
          "metadata": {
            "tags": [],
            "needs_background": "light"
          }
        }
      ]
    },
    {
      "cell_type": "markdown",
      "metadata": {
        "id": "e2TSkYFIqr2v"
      },
      "source": [
        "## Data transforms and preprocessing <a name=\"data-transforms-and-preprocessing\"></a>\n",
        "\n",
        "Next we need to tidy-up our data and  transform it according to the needs of our\n",
        "project\n",
        "###  Data clean-up"
      ]
    },
    {
      "cell_type": "code",
      "metadata": {
        "id": "b2gyDdYxSsmU"
      },
      "source": [
        "# extract the relevant data, i.e. `Open` values\n",
        "# the .values makes this a vector numpy array\n",
        "training_set = stock_history.iloc[:, 1:2].values "
      ],
      "execution_count": 20,
      "outputs": []
    },
    {
      "cell_type": "code",
      "metadata": {
        "id": "_BxncqBArqgg",
        "colab": {
          "base_uri": "https://localhost:8080/"
        },
        "outputId": "40fd9dcc-7470-41a4-ee4a-e2c205f52095"
      },
      "source": [
        "training_set"
      ],
      "execution_count": 21,
      "outputs": [
        {
          "output_type": "execute_result",
          "data": {
            "text/plain": [
              "array([[ 46.14400101],\n",
              "       [ 45.27199936],\n",
              "       [ 44.        ],\n",
              "       ...,\n",
              "       [607.55999756],\n",
              "       [620.23999023],\n",
              "       [628.5       ]])"
            ]
          },
          "metadata": {
            "tags": []
          },
          "execution_count": 21
        }
      ]
    },
    {
      "cell_type": "markdown",
      "metadata": {
        "id": "yND4Bs9JtgT1"
      },
      "source": [
        "### Feature Scaling\n",
        "\n",
        "Next we need to rescale our data to the range from 0.0 to 1.0. \n",
        "\n",
        "Feature scaling is essential as discussed if the Features lecture and needs to be applied to both the training and test sets.\n",
        "\n",
        "It is computed using the ScikitLearn library [MinMaxScaler()](http://scikit-learn.org/stable/modules/generated/sklearn.preprocessing.MinMaxScaler.html#sklearn.preprocessing.MinMaxScaler) which transforms the selected feature by scaling it to a given range. If more than one, this estimator scales and translates each feature individually such that it is in the given range on the training set, i.e. between zero and one."
      ]
    },
    {
      "cell_type": "code",
      "metadata": {
        "id": "Nue4vBM1tUI4"
      },
      "source": [
        "# import the MinMaxScaler\n",
        "from sklearn.preprocessing import MinMaxScaler"
      ],
      "execution_count": 22,
      "outputs": []
    },
    {
      "cell_type": "code",
      "metadata": {
        "id": "HZE8mnR8t46g"
      },
      "source": [
        "# create a scaler instance to rescale all data to the range of 0.0 to 1.0 \n",
        "sc = MinMaxScaler(feature_range = (0, 1))"
      ],
      "execution_count": 23,
      "outputs": []
    },
    {
      "cell_type": "code",
      "metadata": {
        "id": "BTtu_cbxt8Ac"
      },
      "source": [
        "# create the actual training set of scaled values\n",
        "training_set_scaled = sc.fit_transform(training_set)"
      ],
      "execution_count": 24,
      "outputs": []
    },
    {
      "cell_type": "code",
      "metadata": {
        "id": "zWe9ghvIt_4-",
        "colab": {
          "base_uri": "https://localhost:8080/"
        },
        "outputId": "38c21796-0ab9-4514-83ef-3d84ab2b3cf2"
      },
      "source": [
        "# confirm feature scaling\n",
        "training_set_scaled"
      ],
      "execution_count": 25,
      "outputs": [
        {
          "output_type": "execute_result",
          "data": {
            "text/plain": [
              "array([[0.02048867],\n",
              "       [0.01947814],\n",
              "       [0.01800407],\n",
              "       ...,\n",
              "       [0.67109196],\n",
              "       [0.68578632],\n",
              "       [0.69535852]])"
            ]
          },
          "metadata": {
            "tags": []
          },
          "execution_count": 25
        }
      ]
    },
    {
      "cell_type": "markdown",
      "metadata": {
        "id": "Hg8Q4j1guJG0"
      },
      "source": [
        "### Splitting the training set to dependent and independent variables\n",
        "\n",
        "The stock prices are stored in a 2D numpy array containing a single column of data.\n",
        "\n",
        "From this array we need to define our feature vectors. Each feature vector starts with the stock price a day later compared to its predecessor. It is of fixed length, i.e it consists of a fixed number of consecutive stock prices. The stock price after the last one inserted in each feature vector can be considered as our dependent variable, i.e. the N stock prices before today can be used to predict today's price. N is the number of timesteps."
      ]
    },
    {
      "cell_type": "markdown",
      "metadata": {
        "id": "kytPJkBTuKuA"
      },
      "source": [
        "<img src=\"https://drive.google.com/uc?id=1bckuLGZCeLUzNA-xJCGOODzC-4n2U-If\"/>"
      ]
    },
    {
      "cell_type": "code",
      "metadata": {
        "id": "cTsXaCAmuEv0"
      },
      "source": [
        "# define the number of timesteps\n",
        "timesteps = 60 # 60 stock prices or 3 months worth of data assuming 20 working days a month\n",
        "\n",
        "# each row is to contain the last 60 stock prices before the reference date\n",
        "X_train = [] \n",
        "\n",
        "# each entry (this is a 1D vector) is to contain teh stock price at the reference date\n",
        "y_train = []"
      ],
      "execution_count": 26,
      "outputs": []
    },
    {
      "cell_type": "code",
      "metadata": {
        "id": "kXPTJ8JJySvL",
        "colab": {
          "base_uri": "https://localhost:8080/"
        },
        "outputId": "32a7c15a-56df-4735-d49c-00e955e7b151"
      },
      "source": [
        "training_set_scaled.shape"
      ],
      "execution_count": 27,
      "outputs": [
        {
          "output_type": "execute_result",
          "data": {
            "text/plain": [
              "(1361, 1)"
            ]
          },
          "metadata": {
            "tags": []
          },
          "execution_count": 27
        }
      ]
    },
    {
      "cell_type": "code",
      "metadata": {
        "id": "Zm_90YUWyXBG"
      },
      "source": [
        "# we start from day 60 because that is the first instance allowing us to \n",
        "# go back 60 days; first day is 0\n",
        "for i in range(timesteps, training_set_scaled.shape[0]): \n",
        "    # 0 is the column ID, the only column in this case.    \n",
        "    # put the last 60 days values in one row of X_train\n",
        "    X_train.append(training_set_scaled[i-60:i, 0]) \n",
        "    y_train.append(training_set_scaled[i, 0])"
      ],
      "execution_count": 28,
      "outputs": []
    },
    {
      "cell_type": "code",
      "metadata": {
        "id": "LhPpPZjPyolg"
      },
      "source": [
        "# convert these to numpy arrays\n",
        "X_train, y_train = np.array(X_train), np.array(y_train)"
      ],
      "execution_count": 29,
      "outputs": []
    },
    {
      "cell_type": "code",
      "metadata": {
        "id": "TjckpEXzyySa",
        "colab": {
          "base_uri": "https://localhost:8080/"
        },
        "outputId": "6c33b6b9-586f-4cd5-f918-ccff8f5255d3"
      },
      "source": [
        "# the X_train 2D numpy array has 60 rows less compared to the original dataset\n",
        "X_train.shape"
      ],
      "execution_count": 30,
      "outputs": [
        {
          "output_type": "execute_result",
          "data": {
            "text/plain": [
              "(1301, 60)"
            ]
          },
          "metadata": {
            "tags": []
          },
          "execution_count": 30
        }
      ]
    },
    {
      "cell_type": "markdown",
      "metadata": {
        "id": "Bw7IIoQ30vPF"
      },
      "source": [
        "### Reshaping the Matrix"
      ]
    },
    {
      "cell_type": "markdown",
      "metadata": {
        "id": "POHKyNR-00yA"
      },
      "source": [
        "We need to add a new matrix dimension to accommodate the indicator (predictor). \n",
        "\n",
        "NumPy matrices are tensors (3D) and essentially we need to specify that our matrix consists of **60 days** (dimension x) times **total days in data set** (dimension y) times **1 value per matrix cell (scalar)** (dimension z). If we were to include the value of a different stock with the the past 60 days of Tesla, we would need to change the length of the 3d dimension to 2. RNN training tables are 3D!!! Read: [Reshaping NumPy Array | Numpy Array Reshape Examples](https://backtobazics.com/python/python-reshaping-numpy-array-examples/)"
      ]
    },
    {
      "cell_type": "code",
      "metadata": {
        "id": "xtCooPLO1_rX"
      },
      "source": [
        "# Reshaping the data matrix, we retain the 2 original dimensions and add a third of depth=1\n",
        "X_train = np.reshape(X_train, (X_train.shape[0], X_train.shape[1], 1))"
      ],
      "execution_count": 31,
      "outputs": []
    },
    {
      "cell_type": "markdown",
      "metadata": {
        "id": "_WEbnMrwKJ1z"
      },
      "source": [
        "## Build the RNN <a name=\"build-the-rnn\"></a>"
      ]
    },
    {
      "cell_type": "markdown",
      "metadata": {
        "id": "z_Jy9wfEKMV0"
      },
      "source": [
        "### RNN initialization\n",
        "\n",
        "- Import the sequential model from the Keras API;\n",
        "- Import the Dense layer template from the Keras API;\n",
        "- Import the LSTM model from the Keras API\n",
        "- Create an instance of the sequential model called regressor because we want to predict a continuous value"
      ]
    },
    {
      "cell_type": "code",
      "metadata": {
        "id": "svBnHDIH2qO1"
      },
      "source": [
        "# Importing the Keras libraries and packages\n",
        "from keras.models import Sequential\n",
        "from keras.layers import Dense\n",
        "from keras.layers import LSTM\n",
        "from keras.layers import Dropout"
      ],
      "execution_count": 32,
      "outputs": []
    },
    {
      "cell_type": "code",
      "metadata": {
        "id": "hKGJjzmIKR3f"
      },
      "source": [
        "# Initialising the RNN as a sequence of layers\n",
        "regressor = Sequential()"
      ],
      "execution_count": 33,
      "outputs": []
    },
    {
      "cell_type": "markdown",
      "metadata": {
        "id": "wKebpAqcKXDo"
      },
      "source": [
        "### Add First Layer\n",
        "\n",
        "We first add an object of the LSTM class! \n",
        "\n",
        "- The first argument is the number of units or LSTM memory cells. Include many neurons to address the high dimensionality of the problem; say 50 neurons! \n",
        "- Second arg: return sequences = true; stacked LSTM !\n",
        "- Third arg: input 3D shape: observations vs time steps vs number of indicators"
      ]
    },
    {
      "cell_type": "code",
      "metadata": {
        "id": "UPrMlppDKTXK"
      },
      "source": [
        "# Adding the input layer and the LSTM layer\n",
        "regressor.add(LSTM(units = 50, return_sequences = True, input_shape =  (X_train.shape[1], 1)))"
      ],
      "execution_count": 34,
      "outputs": []
    },
    {
      "cell_type": "code",
      "metadata": {
        "id": "k9PvyarKKauB"
      },
      "source": [
        "# the argument is the dropout rate to ignore in the layers (20%), \n",
        "# i.e. 50 units * 20% = 10 units will be dropped each time\n",
        "regressor.add(Dropout(0.2))"
      ],
      "execution_count": 35,
      "outputs": []
    },
    {
      "cell_type": "markdown",
      "metadata": {
        "id": "YwPyVM1UKgP9"
      },
      "source": [
        "### Add More Layers\n",
        "\n",
        "We can add more LSTM layers but along with Dropout regularization to make sure we avoid overfitting! \n",
        "\n",
        "We don’t need to add the shape of the layer again because it is recognized automatically from the number of input units.\n",
        "\n",
        "The last layer does not return a sequence but connected directly to a fully connected output layer."
      ]
    },
    {
      "cell_type": "code",
      "metadata": {
        "id": "8Y0olBBdKcDk"
      },
      "source": [
        "# Adding a second LSTM layer and some Dropout regularisation\n",
        "regressor.add(LSTM(units = 50, return_sequences = True))\n",
        "regressor.add(Dropout(0.2))"
      ],
      "execution_count": 36,
      "outputs": []
    },
    {
      "cell_type": "code",
      "metadata": {
        "id": "T9xORNaLKj1v"
      },
      "source": [
        "# Adding a third LSTM layer and some Dropout regularisation\n",
        "regressor.add(LSTM(units = 50, return_sequences = True))\n",
        "regressor.add(Dropout(0.2))"
      ],
      "execution_count": 37,
      "outputs": []
    },
    {
      "cell_type": "code",
      "metadata": {
        "id": "xd676oPKKlMC"
      },
      "source": [
        "# Adding a fourth LSTM layer and some Dropout regularisation\n",
        "# we removed the return_sequences because we no longer return a \n",
        "# sequence but a value instead\n",
        "regressor.add(LSTM(units = 50))\n",
        "regressor.add(Dropout(0.2))"
      ],
      "execution_count": 38,
      "outputs": []
    },
    {
      "cell_type": "markdown",
      "metadata": {
        "id": "tEbq5tG8KpDI"
      },
      "source": [
        "### Add Output Layer & Compile\n",
        "\n",
        "The output has 1 dimension , i.e. one value to be predicted thus or output fully connected layer has dimensionality = 1.\n",
        "\n",
        "- **Optimizer**: rmsprop is recommended in the Keras documentation. The Adam optimizer is also a powerful choice.\n",
        "- **Loss function**: regression problems take the mean square error as most common"
      ]
    },
    {
      "cell_type": "code",
      "metadata": {
        "id": "zpiJ1X0AKmb9"
      },
      "source": [
        "# Adding the output layer\n",
        "regressor.add(Dense(units = 1))"
      ],
      "execution_count": 39,
      "outputs": []
    },
    {
      "cell_type": "code",
      "metadata": {
        "id": "WjEnNuUmKtfq"
      },
      "source": [
        "# Compiling the RNN\n",
        "regressor.compile(optimizer = 'adam', loss = 'mean_squared_error')"
      ],
      "execution_count": 40,
      "outputs": []
    },
    {
      "cell_type": "code",
      "metadata": {
        "colab": {
          "base_uri": "https://localhost:8080/",
          "height": 1000
        },
        "id": "K_pjAjiw05jc",
        "outputId": "8eab0d3d-347f-419e-ca6d-397ecb76b661"
      },
      "source": [
        "# review the network architecture\n",
        "from keras.utils.vis_utils import plot_model\n",
        "plot_model(regressor, to_file='model_plot.png', show_shapes=True, show_layer_names=True)"
      ],
      "execution_count": 41,
      "outputs": [
        {
          "output_type": "execute_result",
          "data": {
            "image/png": "[encoded data removed]",
            "text/plain": [
              "<IPython.core.display.Image object>"
            ]
          },
          "metadata": {
            "tags": []
          },
          "execution_count": 41
        }
      ]
    },
    {
      "cell_type": "markdown",
      "metadata": {
        "id": "D9hK_3Q-Kx4g"
      },
      "source": [
        "## Train the RNN <a name=\"train-the-rnn\"></a>"
      ]
    },
    {
      "cell_type": "markdown",
      "metadata": {
        "id": "CBVpsF0EK4nB"
      },
      "source": [
        "### Fit the RNN to the Training set\n",
        "\n",
        "We now want to train our RNN using the data in our **Training Set X** and **predictors in y** (ground truth in this case). Parameters that can be specified are the:\n",
        "\n",
        "- **Batch size**:  update the cell weights not on every stock price on every batch_size values; \n",
        "- **Number of epochs**: how many iterations to be used, i.e. number of forward and backward propagations for the update of the weights"
      ]
    },
    {
      "cell_type": "code",
      "metadata": {
        "id": "RlW3HDbIK29t",
        "colab": {
          "base_uri": "https://localhost:8080/"
        },
        "outputId": "99bd19bc-df18-4b5e-aff2-e253f78b491c"
      },
      "source": [
        "# Fitting the RNN to the Training set\n",
        "regressor.fit(X_train, y_train, epochs = 100, batch_size = 32)"
      ],
      "execution_count": 42,
      "outputs": [
        {
          "output_type": "stream",
          "text": [
            "Epoch 1/100\n",
            "41/41 [==============================] - 28s 118ms/step - loss: 0.0299\n",
            "Epoch 2/100\n",
            "41/41 [==============================] - 5s 112ms/step - loss: 0.0031\n",
            "Epoch 3/100\n",
            "41/41 [==============================] - 5s 120ms/step - loss: 0.0020\n",
            "Epoch 4/100\n",
            "41/41 [==============================] - 5s 112ms/step - loss: 0.0022\n",
            "Epoch 5/100\n",
            "41/41 [==============================] - 5s 119ms/step - loss: 0.0026\n",
            "Epoch 6/100\n",
            "41/41 [==============================] - 5s 112ms/step - loss: 0.0025\n",
            "Epoch 7/100\n",
            "41/41 [==============================] - 5s 112ms/step - loss: 0.0027\n",
            "Epoch 8/100\n",
            "41/41 [==============================] - 5s 118ms/step - loss: 0.0032\n",
            "Epoch 9/100\n",
            "41/41 [==============================] - 5s 112ms/step - loss: 0.0021\n",
            "Epoch 10/100\n",
            "41/41 [==============================] - 5s 116ms/step - loss: 0.0018\n",
            "Epoch 11/100\n",
            "41/41 [==============================] - 5s 113ms/step - loss: 0.0021\n",
            "Epoch 12/100\n",
            "41/41 [==============================] - 5s 115ms/step - loss: 0.0016\n",
            "Epoch 13/100\n",
            "41/41 [==============================] - 5s 112ms/step - loss: 0.0018\n",
            "Epoch 14/100\n",
            "41/41 [==============================] - 5s 118ms/step - loss: 0.0014\n",
            "Epoch 15/100\n",
            "41/41 [==============================] - 5s 113ms/step - loss: 0.0015\n",
            "Epoch 16/100\n",
            "41/41 [==============================] - 5s 119ms/step - loss: 0.0016\n",
            "Epoch 17/100\n",
            "41/41 [==============================] - 5s 112ms/step - loss: 0.0025\n",
            "Epoch 18/100\n",
            "41/41 [==============================] - 5s 117ms/step - loss: 0.0016\n",
            "Epoch 19/100\n",
            "41/41 [==============================] - 5s 113ms/step - loss: 0.0015\n",
            "Epoch 20/100\n",
            "41/41 [==============================] - 5s 116ms/step - loss: 0.0013\n",
            "Epoch 21/100\n",
            "41/41 [==============================] - 5s 114ms/step - loss: 0.0015\n",
            "Epoch 22/100\n",
            "41/41 [==============================] - 5s 115ms/step - loss: 0.0015\n",
            "Epoch 23/100\n",
            "41/41 [==============================] - 5s 111ms/step - loss: 0.0019\n",
            "Epoch 24/100\n",
            "41/41 [==============================] - 5s 117ms/step - loss: 0.0016\n",
            "Epoch 25/100\n",
            "41/41 [==============================] - 5s 112ms/step - loss: 0.0010\n",
            "Epoch 26/100\n",
            "41/41 [==============================] - 5s 117ms/step - loss: 0.0010\n",
            "Epoch 27/100\n",
            "41/41 [==============================] - 5s 113ms/step - loss: 0.0019\n",
            "Epoch 28/100\n",
            "41/41 [==============================] - 5s 115ms/step - loss: 0.0012\n",
            "Epoch 29/100\n",
            "41/41 [==============================] - 5s 112ms/step - loss: 0.0010\n",
            "Epoch 30/100\n",
            "41/41 [==============================] - 5s 113ms/step - loss: 0.0016\n",
            "Epoch 31/100\n",
            "41/41 [==============================] - 5s 115ms/step - loss: 0.0012\n",
            "Epoch 32/100\n",
            "41/41 [==============================] - 5s 112ms/step - loss: 0.0011\n",
            "Epoch 33/100\n",
            "41/41 [==============================] - 5s 114ms/step - loss: 0.0011\n",
            "Epoch 34/100\n",
            "41/41 [==============================] - 5s 112ms/step - loss: 0.0011\n",
            "Epoch 35/100\n",
            "41/41 [==============================] - 5s 118ms/step - loss: 9.9804e-04\n",
            "Epoch 36/100\n",
            "41/41 [==============================] - 5s 113ms/step - loss: 0.0011\n",
            "Epoch 37/100\n",
            "41/41 [==============================] - 5s 115ms/step - loss: 0.0014\n",
            "Epoch 38/100\n",
            "41/41 [==============================] - 5s 111ms/step - loss: 8.9599e-04\n",
            "Epoch 39/100\n",
            "41/41 [==============================] - 5s 115ms/step - loss: 0.0012\n",
            "Epoch 40/100\n",
            "41/41 [==============================] - 5s 112ms/step - loss: 8.7870e-04\n",
            "Epoch 41/100\n",
            "41/41 [==============================] - 5s 116ms/step - loss: 0.0012\n",
            "Epoch 42/100\n",
            "41/41 [==============================] - 5s 111ms/step - loss: 0.0014\n",
            "Epoch 43/100\n",
            "41/41 [==============================] - 5s 111ms/step - loss: 0.0013\n",
            "Epoch 44/100\n",
            "41/41 [==============================] - 5s 114ms/step - loss: 0.0013\n",
            "Epoch 45/100\n",
            "41/41 [==============================] - 5s 113ms/step - loss: 0.0015\n",
            "Epoch 46/100\n",
            "41/41 [==============================] - 5s 118ms/step - loss: 0.0015\n",
            "Epoch 47/100\n",
            "41/41 [==============================] - 5s 117ms/step - loss: 0.0013\n",
            "Epoch 48/100\n",
            "41/41 [==============================] - 5s 113ms/step - loss: 0.0012\n",
            "Epoch 49/100\n",
            "41/41 [==============================] - 5s 113ms/step - loss: 0.0010\n",
            "Epoch 50/100\n",
            "41/41 [==============================] - 5s 117ms/step - loss: 9.4472e-04\n",
            "Epoch 51/100\n",
            "41/41 [==============================] - 5s 112ms/step - loss: 9.9931e-04\n",
            "Epoch 52/100\n",
            "41/41 [==============================] - 5s 115ms/step - loss: 9.2392e-04\n",
            "Epoch 53/100\n",
            "41/41 [==============================] - 5s 113ms/step - loss: 0.0012\n",
            "Epoch 54/100\n",
            "41/41 [==============================] - 5s 115ms/step - loss: 0.0011\n",
            "Epoch 55/100\n",
            "41/41 [==============================] - 5s 112ms/step - loss: 0.0015\n",
            "Epoch 56/100\n",
            "41/41 [==============================] - 5s 113ms/step - loss: 0.0011\n",
            "Epoch 57/100\n",
            "41/41 [==============================] - 5s 113ms/step - loss: 0.0012\n",
            "Epoch 58/100\n",
            "41/41 [==============================] - 5s 117ms/step - loss: 0.0011\n",
            "Epoch 59/100\n",
            "41/41 [==============================] - 5s 113ms/step - loss: 0.0010\n",
            "Epoch 60/100\n",
            "41/41 [==============================] - 5s 115ms/step - loss: 9.8187e-04\n",
            "Epoch 61/100\n",
            "41/41 [==============================] - 5s 111ms/step - loss: 8.9110e-04\n",
            "Epoch 62/100\n",
            "41/41 [==============================] - 5s 111ms/step - loss: 9.9213e-04\n",
            "Epoch 63/100\n",
            "41/41 [==============================] - 5s 114ms/step - loss: 0.0014\n",
            "Epoch 64/100\n",
            "41/41 [==============================] - 5s 113ms/step - loss: 9.3607e-04\n",
            "Epoch 65/100\n",
            "41/41 [==============================] - 5s 116ms/step - loss: 0.0012\n",
            "Epoch 66/100\n",
            "41/41 [==============================] - 5s 111ms/step - loss: 8.1943e-04\n",
            "Epoch 67/100\n",
            "41/41 [==============================] - 5s 133ms/step - loss: 9.3555e-04\n",
            "Epoch 68/100\n",
            "41/41 [==============================] - 6s 141ms/step - loss: 0.0013\n",
            "Epoch 69/100\n",
            "41/41 [==============================] - 5s 113ms/step - loss: 0.0010\n",
            "Epoch 70/100\n",
            "41/41 [==============================] - 5s 115ms/step - loss: 8.1220e-04\n",
            "Epoch 71/100\n",
            "41/41 [==============================] - 5s 123ms/step - loss: 0.0011\n",
            "Epoch 72/100\n",
            "41/41 [==============================] - 5s 113ms/step - loss: 9.7235e-04\n",
            "Epoch 73/100\n",
            "41/41 [==============================] - 5s 116ms/step - loss: 0.0011\n",
            "Epoch 74/100\n",
            "41/41 [==============================] - 5s 113ms/step - loss: 7.8989e-04\n",
            "Epoch 75/100\n",
            "41/41 [==============================] - 5s 115ms/step - loss: 9.4855e-04\n",
            "Epoch 76/100\n",
            "41/41 [==============================] - 5s 113ms/step - loss: 8.5076e-04\n",
            "Epoch 77/100\n",
            "41/41 [==============================] - 5s 114ms/step - loss: 9.0231e-04\n",
            "Epoch 78/100\n",
            "41/41 [==============================] - 5s 112ms/step - loss: 8.4684e-04\n",
            "Epoch 79/100\n",
            "41/41 [==============================] - 5s 122ms/step - loss: 8.2893e-04\n",
            "Epoch 80/100\n",
            "41/41 [==============================] - 5s 113ms/step - loss: 8.4111e-04\n",
            "Epoch 81/100\n",
            "41/41 [==============================] - 5s 117ms/step - loss: 0.0011\n",
            "Epoch 82/100\n",
            "41/41 [==============================] - 5s 112ms/step - loss: 8.1579e-04\n",
            "Epoch 83/100\n",
            "41/41 [==============================] - 5s 115ms/step - loss: 9.6847e-04\n",
            "Epoch 84/100\n",
            "41/41 [==============================] - 5s 113ms/step - loss: 9.4995e-04\n",
            "Epoch 85/100\n",
            "41/41 [==============================] - 5s 115ms/step - loss: 8.3842e-04\n",
            "Epoch 86/100\n",
            "41/41 [==============================] - 5s 122ms/step - loss: 8.3434e-04\n",
            "Epoch 87/100\n",
            "41/41 [==============================] - 5s 113ms/step - loss: 0.0010\n",
            "Epoch 88/100\n",
            "41/41 [==============================] - 5s 117ms/step - loss: 7.9889e-04\n",
            "Epoch 89/100\n",
            "41/41 [==============================] - 5s 112ms/step - loss: 8.9125e-04\n",
            "Epoch 90/100\n",
            "41/41 [==============================] - 5s 113ms/step - loss: 8.5032e-04\n",
            "Epoch 91/100\n",
            "41/41 [==============================] - 5s 114ms/step - loss: 8.4443e-04\n",
            "Epoch 92/100\n",
            "41/41 [==============================] - 5s 119ms/step - loss: 0.0012\n",
            "Epoch 93/100\n",
            "41/41 [==============================] - 5s 116ms/step - loss: 9.5692e-04\n",
            "Epoch 94/100\n",
            "41/41 [==============================] - 5s 115ms/step - loss: 8.6056e-04\n",
            "Epoch 95/100\n",
            "41/41 [==============================] - 5s 119ms/step - loss: 9.0248e-04\n",
            "Epoch 96/100\n",
            "41/41 [==============================] - 5s 119ms/step - loss: 9.3256e-04\n",
            "Epoch 97/100\n",
            "41/41 [==============================] - 5s 114ms/step - loss: 9.4410e-04\n",
            "Epoch 98/100\n",
            "41/41 [==============================] - 5s 113ms/step - loss: 7.8570e-04\n",
            "Epoch 99/100\n",
            "41/41 [==============================] - 5s 117ms/step - loss: 0.0010\n",
            "Epoch 100/100\n",
            "41/41 [==============================] - 5s 114ms/step - loss: 9.8064e-04\n"
          ],
          "name": "stdout"
        },
        {
          "output_type": "execute_result",
          "data": {
            "text/plain": [
              "<keras.callbacks.History at 0x7f558e31c590>"
            ]
          },
          "metadata": {
            "tags": []
          },
          "execution_count": 42
        }
      ]
    },
    {
      "cell_type": "markdown",
      "metadata": {
        "id": "h8gZFgBAOW4P"
      },
      "source": [
        "## Deploy the RNN <a name=\"deploy-the-rnn\"></a>"
      ]
    },
    {
      "cell_type": "markdown",
      "metadata": {
        "id": "eYueYBfdK_AB"
      },
      "source": [
        "### Computing Predictions\n",
        "\n",
        "Get the test set in a new dataframe. That will be one month of stock prices after the end of the preior used for training.\n",
        "\n",
        "There are 20 (19 to 21) financial days in one month, weekends excluded!"
      ]
    },
    {
      "cell_type": "code",
      "metadata": {
        "id": "Ob4psLLNK7yb"
      },
      "source": [
        "# Getting the real stock price\n",
        "\n",
        "# first set the date range (make sure it does not overlap with our training data period)\n",
        "start_date = getDateTime(2021,6,1)\n",
        "end_date = getDateTime(2021,6,30)"
      ],
      "execution_count": 43,
      "outputs": []
    },
    {
      "cell_type": "code",
      "metadata": {
        "id": "x2wS-EywNSva",
        "colab": {
          "base_uri": "https://localhost:8080/"
        },
        "outputId": "1ba89c1a-79bf-4296-c194-2050f1d50156"
      },
      "source": [
        "# get the relevant stock proce history\n",
        "dataset_test = getStockPriceHistory(df, start_date, end_date)\n",
        "dataset_test.reset_index(inplace=True)"
      ],
      "execution_count": 44,
      "outputs": [
        {
          "output_type": "stream",
          "text": [
            "0 : TSLA,"
          ],
          "name": "stdout"
        }
      ]
    },
    {
      "cell_type": "code",
      "metadata": {
        "id": "oLHkDE4dLDcn",
        "colab": {
          "base_uri": "https://localhost:8080/"
        },
        "outputId": "9a801cf1-3315-44aa-a732-838a331c30cd"
      },
      "source": [
        "# extract the relevant columns \n",
        "real_stock_price = dataset_test.iloc[:, 1:2].values\n",
        "real_stock_price.size"
      ],
      "execution_count": 45,
      "outputs": [
        {
          "output_type": "execute_result",
          "data": {
            "text/plain": [
              "21"
            ]
          },
          "metadata": {
            "tags": []
          },
          "execution_count": 45
        }
      ]
    },
    {
      "cell_type": "code",
      "metadata": {
        "id": "XZpRcm_TLFYD",
        "colab": {
          "base_uri": "https://localhost:8080/"
        },
        "outputId": "cbf1561e-018c-452f-eeaa-a53c73950a77"
      },
      "source": [
        "# verify your data\n",
        "real_stock_price"
      ],
      "execution_count": 46,
      "outputs": [
        {
          "output_type": "execute_result",
          "data": {
            "text/plain": [
              "array([[627.79998779],\n",
              "       [620.13000488],\n",
              "       [601.79998779],\n",
              "       [579.71002197],\n",
              "       [591.83001709],\n",
              "       [623.01000977],\n",
              "       [602.16998291],\n",
              "       [603.88000488],\n",
              "       [610.22998047],\n",
              "       [612.22998047],\n",
              "       [616.69000244],\n",
              "       [597.53997803],\n",
              "       [601.89001465],\n",
              "       [613.36999512],\n",
              "       [624.47998047],\n",
              "       [618.25      ],\n",
              "       [632.        ],\n",
              "       [674.98999023],\n",
              "       [689.58001709],\n",
              "       [671.64001465],\n",
              "       [684.65002441]])"
            ]
          },
          "metadata": {
            "tags": []
          },
          "execution_count": 46
        }
      ]
    },
    {
      "cell_type": "markdown",
      "metadata": {
        "id": "fSFS-8O8LHOY"
      },
      "source": [
        "To predict the stock price value for each day in this date range, we need the values in the last 60 days.\n",
        "\n",
        "To obtain this **history** we need to combine both the training and test sets in one.\n",
        "\n",
        "If we were to use the training_set and test_set we would need to use the scaler but that would change the actual test values. Thus concatenate the original data frames!"
      ]
    },
    {
      "cell_type": "code",
      "metadata": {
        "id": "W5Y88AHkLJj0"
      },
      "source": [
        "# axis = 0 means concatenate the lines (i.e. vertical axis)\n",
        "dataset_total = pd.concat((stock_history['Open'], dataset_test['Open']), axis = 0)"
      ],
      "execution_count": 47,
      "outputs": []
    },
    {
      "cell_type": "code",
      "metadata": {
        "id": "9TusBCXYLQxV",
        "colab": {
          "base_uri": "https://localhost:8080/"
        },
        "outputId": "1a71f222-7d4b-4233-ad49-d10091e35ba5"
      },
      "source": [
        "dataset_total.size"
      ],
      "execution_count": 48,
      "outputs": [
        {
          "output_type": "execute_result",
          "data": {
            "text/plain": [
              "1382"
            ]
          },
          "metadata": {
            "tags": []
          },
          "execution_count": 48
        }
      ]
    },
    {
      "cell_type": "code",
      "metadata": {
        "id": "QJoti2VsLT5G"
      },
      "source": [
        "# the difference in the length of the first two gives us \n",
        "# the first day in the new date range, and we need to go back 60 days to get the necessary range\n",
        "inputs = dataset_total[len(dataset_total) - len(dataset_test) - timesteps:].values"
      ],
      "execution_count": 49,
      "outputs": []
    },
    {
      "cell_type": "code",
      "metadata": {
        "id": "Tw2NzN_6LUsk",
        "colab": {
          "base_uri": "https://localhost:8080/"
        },
        "outputId": "684d2693-b97c-49c9-d935-6a6b292221d7"
      },
      "source": [
        "inputs.size"
      ],
      "execution_count": 50,
      "outputs": [
        {
          "output_type": "execute_result",
          "data": {
            "text/plain": [
              "81"
            ]
          },
          "metadata": {
            "tags": []
          },
          "execution_count": 50
        }
      ]
    },
    {
      "cell_type": "code",
      "metadata": {
        "id": "IOntslnMLWco"
      },
      "source": [
        "# we did not use iloc from panda so lets reshape the numpy array for \n",
        "# compatibility: i.e. all the values from input lines to be stacked in one \n",
        "# column. The -1 means that the numpy has no knowledge of how the \n",
        "# values were stored in lines. The 1 means we want to them in one \n",
        "# column.\n",
        "\n",
        "inputs = inputs.reshape(-1,1) \n",
        "\n",
        "# apply the feature scaler\n",
        "inputs = sc.transform(inputs)"
      ],
      "execution_count": 51,
      "outputs": []
    },
    {
      "cell_type": "markdown",
      "metadata": {
        "id": "8Y4adPmSLZVj"
      },
      "source": [
        "1. For each price in test date range we need the **immediate 60 values** before it. \n",
        "2. We have 21 prices in June;\n",
        "3. We need a numpy 3D array of 60 prices (columns) times 21 days (rows) times 1 dependent variable \n",
        "4. We don’t need y_test. That is what we are trying to compute!"
      ]
    },
    {
      "cell_type": "code",
      "metadata": {
        "id": "kdlX_S6NLbmE"
      },
      "source": [
        "# Getting the predicted stock price of 2017\n",
        "X_test = []"
      ],
      "execution_count": 52,
      "outputs": []
    },
    {
      "cell_type": "code",
      "metadata": {
        "id": "vrLyeEzzLeV_"
      },
      "source": [
        "# the first 60 from inputs are from training set; start \n",
        "# from 60 and get the extra 21, i.e. up to 81\n",
        "for i in range(timesteps, inputs.size): \n",
        "    X_test.append(inputs[i-timesteps:i, 0])"
      ],
      "execution_count": 54,
      "outputs": []
    },
    {
      "cell_type": "code",
      "metadata": {
        "id": "TEBuVmlZLf2g"
      },
      "source": [
        "X_test = np.array(X_test) # not 3D structure yet"
      ],
      "execution_count": 55,
      "outputs": []
    },
    {
      "cell_type": "code",
      "metadata": {
        "id": "mGi3PTs_Li_S"
      },
      "source": [
        "# create a 3D structure\n",
        "X_test = np.reshape(X_test, (X_test.shape[0], X_test.shape[1], 1))"
      ],
      "execution_count": 56,
      "outputs": []
    },
    {
      "cell_type": "code",
      "metadata": {
        "id": "q6rVxW66LjGK"
      },
      "source": [
        "# source this input to our regressor model\n",
        "predicted_stock_price = regressor.predict(X_test)"
      ],
      "execution_count": 57,
      "outputs": []
    },
    {
      "cell_type": "code",
      "metadata": {
        "id": "Ft8H1ifSLmtm",
        "colab": {
          "base_uri": "https://localhost:8080/"
        },
        "outputId": "6d3645c3-367f-47f5-e6f7-8d7de607a9f6"
      },
      "source": [
        "# need to inverse the scaling to get meaningful predicted stock price # outputs\n",
        "predicted_stock_price = sc.inverse_transform(predicted_stock_price) \n",
        "predicted_stock_price.size"
      ],
      "execution_count": 58,
      "outputs": [
        {
          "output_type": "execute_result",
          "data": {
            "text/plain": [
              "21"
            ]
          },
          "metadata": {
            "tags": []
          },
          "execution_count": 58
        }
      ]
    },
    {
      "cell_type": "markdown",
      "metadata": {
        "id": "6CzDUW3CLoUK"
      },
      "source": [
        "### Result Visualization"
      ]
    },
    {
      "cell_type": "code",
      "metadata": {
        "id": "aE-WgHRPLsa_",
        "colab": {
          "base_uri": "https://localhost:8080/",
          "height": 616
        },
        "outputId": "d637f57c-7611-48e3-a7f3-81312c663ace"
      },
      "source": [
        "# Visualising the results\n",
        "\n",
        "plt.plot(real_stock_price, color = 'red', label = 'Real Apple Stock Price')\n",
        "\n",
        "plt.plot(predicted_stock_price, color = 'blue', label = 'Predicted Apple Stock Price')\n",
        "\n",
        "plt.title('Apple Stock Price Prediction')\n",
        "plt.xlabel('Time')\n",
        "plt.ylabel('Apple Stock Price')\n",
        "plt.legend()\n",
        "\n",
        "plt.show()"
      ],
      "execution_count": 59,
      "outputs": [
        {
          "output_type": "display_data",
          "data": {
            "image/png": "[encoded data removed]",
            "text/plain": [
              "<Figure size 1080x720 with 1 Axes>"
            ]
          },
          "metadata": {
            "tags": [],
            "needs_background": "light"
          }
        }
      ]
    },
    {
      "cell_type": "markdown",
      "metadata": {
        "id": "527YCNE_LyMD"
      },
      "source": [
        "The blue line shows the trend of the stock for the month of January 2017.\n",
        "\n",
        "Some observations:\n",
        "\n",
        "- The prediction lags behind the actual price curve because the model cannot react to fast non-linear changes. Spikes are examples of fast non-linear changes\n",
        "- Model reacts pretty well to smooth changes\n",
        "\n"
      ]
    },
    {
      "cell_type": "markdown",
      "metadata": {
        "id": "tN3c8G77L48A"
      },
      "source": [
        "### Compute the RMSE\n",
        "\n",
        "If we need to compute the RMSE for our Stock Price Prediction problem, we use the real stock price and predicted stock price as shown.\n",
        "\n",
        "Then consider dividing this RMSE by the range of the Google Stock Price values of January 2017 to get a relative error, as opposed to an absolute error. "
      ]
    },
    {
      "cell_type": "code",
      "metadata": {
        "id": "8SQnOtDgLv50"
      },
      "source": [
        "#import the libraries\n",
        "import math\n",
        "from sklearn.metrics import mean_squared_error"
      ],
      "execution_count": 60,
      "outputs": []
    },
    {
      "cell_type": "code",
      "metadata": {
        "id": "XoGDYOUUL8tb",
        "colab": {
          "base_uri": "https://localhost:8080/"
        },
        "outputId": "569a935d-2d19-4594-ef98-bffd5468929d"
      },
      "source": [
        "rmse = math.sqrt( mean_squared_error( real_stock_price[0:21,:], predicted_stock_price))\n",
        "rmse"
      ],
      "execution_count": 61,
      "outputs": [
        {
          "output_type": "execute_result",
          "data": {
            "text/plain": [
              "23.917950598911876"
            ]
          },
          "metadata": {
            "tags": []
          },
          "execution_count": 61
        }
      ]
    },
    {
      "cell_type": "markdown",
      "metadata": {
        "id": "j6srtrdLL-ui"
      },
      "source": [
        "## Improve the RNN <a name=\"improve-the-rnn\"></a>"
      ]
    },
    {
      "cell_type": "markdown",
      "metadata": {
        "id": "JoRyqGZVMDh2"
      },
      "source": [
        "The new data need to be placed in the same order/format  as in the case of the training/test sets.\n",
        "\n",
        "1. Getting more training data: we trained our model on the past 5 years of the  Google Stock Price but it would be even better to train it on the past 10 years.\n",
        "\n",
        "2. Increasing the number of time steps: the model remembered the stock price from the 60 previous financial days to predict the stock price of the next day. That’s because we chose a number of 60 time steps (3 months). You could try to increase the number of time steps, by choosing for example 120 time steps (6 months).\n",
        "\n",
        "3. Adding some other indicators: if you have the financial instinct that the stock price of some other companies might be correlated to the one of Google, you could add this other stock price as a new indicator in the training data.\n",
        "\n",
        "4. Adding more LSTM layers: we built a RNN with four LSTM layers but you could try with even more.\n",
        "\n",
        "5. Adding more neurons in the LSTM layers: we highlighted the fact that we needed a high number of neurons in the LSTM layers to respond better to the complexity of the problem and we chose to include 50 neurons in each of our 4 LSTM layers. You could try an architecture with even more neurons in each of the 4 (or more) LSTM layers."
      ]
    },
    {
      "cell_type": "markdown",
      "metadata": {
        "id": "_OJqZPvSMHup"
      },
      "source": [
        "## Fine tune the RNN  <a name=\"fine-tune-the-rnn\"></a>\n",
        "\n",
        "Parameter Tuning on the RNN model: we are dealing with a Regression problem because we predict a continuous outcome.\n",
        "\n",
        "Tip: replace: scoring = 'accuracy' by scoring = 'neg_mean_squared_error' in the GridSearchCV class parameters as we did in the ANN case."
      ]
    },
    {
      "cell_type": "code",
      "metadata": {
        "id": "jh4hCygu8Y-5"
      },
      "source": [
        ""
      ],
      "execution_count": null,
      "outputs": []
    }
  ]
}